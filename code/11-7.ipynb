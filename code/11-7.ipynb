{
 "cells": [
  {
   "cell_type": "markdown",
   "id": "71d989e5",
   "metadata": {},
   "source": [
    "### regression based problem \n",
    "- simple linear regression\n",
    "- multiple linear regression\n",
    "- polynomial regression\n",
    "\n",
    "#### simple linear regression\n",
    "- y = mx + b  \n",
    "- one dimensional data\n",
    "- base fit line (minimum error) is calculated \n",
    "    - y is the dependent variable\n",
    "    - x is the independent variable\n",
    "    - m is the slope of the line\n",
    "    - b is the y-intercept\n",
    "for solving we need to find m and b\n",
    "- closed form solution\n",
    "    - m = (Σ(xi - x̄)(yi - ȳ)) / Σ(xi - x̄)²  where x is the independent variable and y is the dependent variable\n",
    "    - b = ȳ - m * x̄\n",
    "- non closed form solution\n",
    "    - gradient descent\n",
    "        - start with random values for m and b\n",
    "        - calculate the error\n",
    "        - update m and b using the learning rate\n",
    "        - repeat until convergence"
   ]
  },
  {
   "cell_type": "markdown",
   "id": "33199dc6",
   "metadata": {},
   "source": []
  },
  {
   "cell_type": "code",
   "execution_count": 4,
   "id": "7ac88d59",
   "metadata": {},
   "outputs": [],
   "source": [
    "import numpy as np\n",
    "import matplotlib.pyplot as plt\n",
    "import pandas as pd\n",
    "import seaborn as sns"
   ]
  },
  {
   "cell_type": "code",
   "execution_count": 2,
   "id": "2c020039",
   "metadata": {},
   "outputs": [],
   "source": [
    "df = pd.read_csv('../dataset/placement.csv')"
   ]
  },
  {
   "cell_type": "code",
   "execution_count": null,
   "id": "b2f5b196",
   "metadata": {},
   "outputs": [],
   "source": []
  },
  {
   "cell_type": "code",
   "execution_count": null,
   "id": "ba687484",
   "metadata": {},
   "outputs": [],
   "source": []
  }
 ],
 "metadata": {
  "kernelspec": {
   "display_name": "Python 3",
   "language": "python",
   "name": "python3"
  },
  "language_info": {
   "codemirror_mode": {
    "name": "ipython",
    "version": 3
   },
   "file_extension": ".py",
   "mimetype": "text/x-python",
   "name": "python",
   "nbconvert_exporter": "python",
   "pygments_lexer": "ipython3",
   "version": "3.13.5"
  }
 },
 "nbformat": 4,
 "nbformat_minor": 5
}
