{
 "cells": [
  {
   "cell_type": "code",
   "execution_count": 5,
   "id": "bdeb1802",
   "metadata": {},
   "outputs": [],
   "source": [
    "import transformers\n",
    "from transformers import pipeline\n"
   ]
  },
  {
   "cell_type": "code",
   "execution_count": null,
   "id": "6a277cbd",
   "metadata": {},
   "outputs": [],
   "source": [
    "gen = pipeline(\"text-generation\", model=\"gpt2\", framework=\"pt\") "
   ]
  },
  {
   "cell_type": "code",
   "execution_count": null,
   "id": "285a56f4",
   "metadata": {},
   "outputs": [],
   "source": [
    "user_input = input(\"Enter your text: \")\n",
    "out = gen(user_input)"
   ]
  }
 ],
 "metadata": {
  "kernelspec": {
   "display_name": "Python 3",
   "language": "python",
   "name": "python3"
  },
  "language_info": {
   "codemirror_mode": {
    "name": "ipython",
    "version": 3
   },
   "file_extension": ".py",
   "mimetype": "text/x-python",
   "name": "python",
   "nbconvert_exporter": "python",
   "pygments_lexer": "ipython3",
   "version": "3.13.5"
  }
 },
 "nbformat": 4,
 "nbformat_minor": 5
}
